{
  "nbformat": 4,
  "nbformat_minor": 0,
  "metadata": {
    "colab": {
      "name": "Numpy problems.ipynb",
      "provenance": [],
      "collapsed_sections": [],
      "authorship_tag": "ABX9TyO6jpqAkFOiXmDEfYJ6/NZz",
      "include_colab_link": true
    },
    "kernelspec": {
      "name": "python3",
      "display_name": "Python 3"
    },
    "language_info": {
      "name": "python"
    }
  },
  "cells": [
    {
      "cell_type": "markdown",
      "metadata": {
        "id": "view-in-github",
        "colab_type": "text"
      },
      "source": [
        "<a href=\"https://colab.research.google.com/github/Jayashree-DataScience/Python_codes/blob/main/Numpy_problems.ipynb\" target=\"_parent\"><img src=\"https://colab.research.google.com/assets/colab-badge.svg\" alt=\"Open In Colab\"/></a>"
      ]
    },
    {
      "cell_type": "markdown",
      "metadata": {
        "id": "s5bNgodWnWIu"
      },
      "source": [
        "# Numpy Assignment"
      ]
    },
    {
      "cell_type": "markdown",
      "metadata": {
        "id": "fbxVj5WMVpl8"
      },
      "source": [
        "Q1. Write a function so that the columns of the output matrix are powers of the input\n",
        "vector.\n",
        "The order of the powers is determined by the increasing boolean argument. Specifically, when\n",
        "increasing is False, the i-th output column is the input vector raised element-wise to the power\n",
        "of N - i - 1.\n",
        "\n",
        "HINT: Such a matrix with a geometric progression in each row is named for Alexandre-\n",
        "Theophile Vandermonde.\n",
        "\n"
      ]
    },
    {
      "cell_type": "code",
      "metadata": {
        "id": "F6TtMOgrYR_d"
      },
      "source": [
        "import numpy as np\n",
        "def gen_matrix(inp,n,in_b):\n",
        "  result_matrix=np.vander(x=inp,N=n,increasing=in_b)\n",
        "  return result_matrix\n"
      ],
      "execution_count": 29,
      "outputs": []
    },
    {
      "cell_type": "code",
      "metadata": {
        "colab": {
          "base_uri": "https://localhost:8080/"
        },
        "id": "uDmooCdfgaFC",
        "outputId": "b2993122-5cbc-40f2-abf2-b412c9d7fbf1"
      },
      "source": [
        "input_data=np.arange(1,5,1)\n",
        "n=4\n",
        "T=True\n",
        "F=False\n",
        "matrix_T=gen_matrix(input_data,n,T)\n",
        "matrix_F=gen_matrix(input_data,n,F)\n",
        "print(\"input data is\\n\",input_data)\n",
        "print(\"increasing is True: Resulting Matrix is \\n\",matrix_T)\n",
        "print(\"increasing is False: Resulting Matrix is\\n\",matrix_F)"
      ],
      "execution_count": 30,
      "outputs": [
        {
          "output_type": "stream",
          "text": [
            "input data is\n",
            " [1 2 3 4]\n",
            "increasing is True: Resulting Matrix is \n",
            " [[ 1  1  1  1]\n",
            " [ 1  2  4  8]\n",
            " [ 1  3  9 27]\n",
            " [ 1  4 16 64]]\n",
            "increasing is False: Resulting Matrix is\n",
            " [[ 1  1  1  1]\n",
            " [ 8  4  2  1]\n",
            " [27  9  3  1]\n",
            " [64 16  4  1]]\n"
          ],
          "name": "stdout"
        }
      ]
    },
    {
      "cell_type": "markdown",
      "metadata": {
        "id": "B6ZNj_1VX6ct"
      },
      "source": [
        "Q2. \n",
        "\n",
        "Given a sequence of n values x1, x2, ..., xn and a window size k>0, the k-th moving average of the given sequence is defined as follows:\n",
        "\n",
        "The moving average sequence has n-k+1 elements as shown below.\n",
        "\n",
        "The moving averages with k=4 of a ten-value sequence (n=10) is shown below\n",
        "\n",
        "i 1 2 3 4 5 6 7 8 9 10\n",
        "\n",
        "\n",
        "===== == == == == == == == == == ==\n",
        "\n",
        "Input 10 20 30 40 50 60 70 80 90 100\n",
        "\n",
        "y1   25 = (10+20+30+40)/4\n",
        "\n",
        "y2   35 = (20+30+40+50)/4\n",
        "\n",
        "y3   45 = (30+40+50+60)/4\n",
        "\n",
        "y4   55 = (40+50+60+70)/4\n",
        "\n",
        "y5   65 = (50+60+70+80)/4\n",
        "\n",
        "y6   75 = (60+70+80+90)/4\n",
        "\n",
        "y7   85 = (70+80+90+100)/4\n",
        "\n",
        "Thus, the moving average sequence has n-k+1=10-4+1=7 values.\n",
        "\n",
        "Write a function to find moving average in an array over a window:\n",
        "Test it over [3, 5, 7, 2, 8, 10, 11, 65, 72, 81, 99, 100, 150] and window of 3"
      ]
    },
    {
      "cell_type": "code",
      "metadata": {
        "id": "3FEMFnaOeu3t"
      },
      "source": [
        "import numpy as np"
      ],
      "execution_count": 31,
      "outputs": []
    },
    {
      "cell_type": "code",
      "metadata": {
        "id": "hGkN_Cp2VtRq"
      },
      "source": [
        "def moving_average(n,i,k):\n",
        "  cum_sum=np.sum(n,dtype=float)\n",
        "  print(n)\n",
        "  cum_avg=cum_sum/k\n",
        "  return cum_avg"
      ],
      "execution_count": 32,
      "outputs": []
    },
    {
      "cell_type": "code",
      "metadata": {
        "colab": {
          "base_uri": "https://localhost:8080/"
        },
        "id": "Dr2JfdCiGV7B",
        "outputId": "db9338b3-2256-43c8-d0ea-781ffc823cf2"
      },
      "source": [
        "result=[]\n",
        "input_data=[3, 5, 7, 2, 8, 10, 11, 65, 72, 81, 99, 100, 150] \n",
        "k=3\n",
        "for i in range(0,13):\n",
        "  if i+k>13:\n",
        "    break\n",
        "  input_vector=input_data[i:i+k]\n",
        "  print(\"input vector in the loop{}\".format(input_vector))\n",
        "  result_temp=moving_average(input_vector,i,3)\n",
        "  print(\"moving average in each iteration {}\".format(result_temp))\n",
        "  result.append(result_temp)\n",
        "print(\"------------------------------------\\n\")\n",
        "print(\"Moving Average for the input vector [3, 5, 7, 2, 8, 10, 11, 65, 72, 81, 99, 100, 150] has 11 elements in the sequence (n-k+1=13-3+1=11) \\n \")\n",
        "print(result)"
      ],
      "execution_count": 33,
      "outputs": [
        {
          "output_type": "stream",
          "text": [
            "input vector in the loop[3, 5, 7]\n",
            "[3, 5, 7]\n",
            "moving average in each iteration 5.0\n",
            "input vector in the loop[5, 7, 2]\n",
            "[5, 7, 2]\n",
            "moving average in each iteration 4.666666666666667\n",
            "input vector in the loop[7, 2, 8]\n",
            "[7, 2, 8]\n",
            "moving average in each iteration 5.666666666666667\n",
            "input vector in the loop[2, 8, 10]\n",
            "[2, 8, 10]\n",
            "moving average in each iteration 6.666666666666667\n",
            "input vector in the loop[8, 10, 11]\n",
            "[8, 10, 11]\n",
            "moving average in each iteration 9.666666666666666\n",
            "input vector in the loop[10, 11, 65]\n",
            "[10, 11, 65]\n",
            "moving average in each iteration 28.666666666666668\n",
            "input vector in the loop[11, 65, 72]\n",
            "[11, 65, 72]\n",
            "moving average in each iteration 49.333333333333336\n",
            "input vector in the loop[65, 72, 81]\n",
            "[65, 72, 81]\n",
            "moving average in each iteration 72.66666666666667\n",
            "input vector in the loop[72, 81, 99]\n",
            "[72, 81, 99]\n",
            "moving average in each iteration 84.0\n",
            "input vector in the loop[81, 99, 100]\n",
            "[81, 99, 100]\n",
            "moving average in each iteration 93.33333333333333\n",
            "input vector in the loop[99, 100, 150]\n",
            "[99, 100, 150]\n",
            "moving average in each iteration 116.33333333333333\n",
            "------------------------------------\n",
            "\n",
            "Moving Average for the input vector [3, 5, 7, 2, 8, 10, 11, 65, 72, 81, 99, 100, 150] has 11 elements in the sequence (n-k+1=13-3+1=11) \n",
            " \n",
            "[5.0, 4.666666666666667, 5.666666666666667, 6.666666666666667, 9.666666666666666, 28.666666666666668, 49.333333333333336, 72.66666666666667, 84.0, 93.33333333333333, 116.33333333333333]\n"
          ],
          "name": "stdout"
        }
      ]
    }
  ]
}