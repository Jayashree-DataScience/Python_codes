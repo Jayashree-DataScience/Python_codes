{
  "nbformat": 4,
  "nbformat_minor": 0,
  "metadata": {
    "colab": {
      "name": "Python_Assignment4.ipynb",
      "provenance": [],
      "authorship_tag": "ABX9TyN1nI9wZ5S9yoTBT7rtZeMz",
      "include_colab_link": true
    },
    "kernelspec": {
      "name": "python3",
      "display_name": "Python 3"
    },
    "language_info": {
      "name": "python"
    }
  },
  "cells": [
    {
      "cell_type": "markdown",
      "metadata": {
        "id": "view-in-github",
        "colab_type": "text"
      },
      "source": [
        "<a href=\"https://colab.research.google.com/github/Jayashree-DataScience/Python_codes/blob/main/Python_Assignment4.ipynb\" target=\"_parent\"><img src=\"https://colab.research.google.com/assets/colab-badge.svg\" alt=\"Open In Colab\"/></a>"
      ]
    },
    {
      "cell_type": "markdown",
      "metadata": {
        "id": "4daKSjjLoSfl"
      },
      "source": [
        "1.1 Write a Python Program(with class concepts) to find the area of the triangle using the below\n",
        "formula.\n",
        "area = (s*(s-a)*(s-b)*(s-c)) ** 0.5\n",
        "Function to take the length of the sides of triangle from user should be defined in the parent\n",
        "class and function to calculate the area should be defined in subclass.\n",
        "\n",
        "1.2 Write a function filter_long_words() that takes a list of words and an integer n and returns\n",
        "the list of words that are longer than n.\n",
        "\n",
        "2.1 Write a Python program using function concept that maps list of words into a list of integers\n",
        "representing the lengths of the corresponding words.\n",
        "Hint: If a list [ ab,cde,erty] is passed on to the python function output should come as [2,3,4]\n",
        "Here 2,3 and 4 are the lengths of the words in the list.\n",
        "\n",
        "2.2 Write a Python function which takes a character (i.e. a string of length 1) and returns True if\n",
        "it is a vowel, False otherwise.\n",
        "\n",
        "NOTE:ThesolutionsharedthroughGithubshouldcontainthesource"
      ]
    },
    {
      "cell_type": "markdown",
      "metadata": {
        "id": "nwONarMyo--b"
      },
      "source": [
        " 1.1 Write a Python Program(with class concepts) to find the area of the triangle using the below formula. area = (s(s-a)(s-b)(s-c)) * 0.5.\n",
        " \n",
        "Function to take the length of the sides of triangle from user should be defined in the parent class and function to calculate the area should be defined in subclass."
      ]
    },
    {
      "cell_type": "code",
      "metadata": {
        "id": "CFEKdylvpAKy"
      },
      "source": [
        "class userinput:\n",
        "  def __init__(self):\n",
        "    self.a=float(input(\"Enter the value of side a of a triangle\"))\n",
        "    self.b=float(input(\"Enter the value of side b of a triangle\"))\n",
        "    self.c=float(input(\"Enter the value of side c of a triangle\"))"
      ],
      "execution_count": 29,
      "outputs": []
    },
    {
      "cell_type": "code",
      "metadata": {
        "id": "CwTXcZYHqMyA"
      },
      "source": [
        "class area_Triangle(userinput):\n",
        "  def area(self):\n",
        "    s=(self.a+self.b+self.c)/2\n",
        "    area=s*(s-self.a)*(s-self.b)*(s-self.c)/2\n",
        "    print(f\" Area of a Triangle with side {self.a},{self.b},{self.c} is {area}\")"
      ],
      "execution_count": 30,
      "outputs": []
    },
    {
      "cell_type": "code",
      "metadata": {
        "colab": {
          "base_uri": "https://localhost:8080/"
        },
        "id": "54h3zQzzq5RV",
        "outputId": "dec8c6d4-d014-494f-c6f6-2235f6936ff5"
      },
      "source": [
        "T1=area_Triangle()\n",
        "T1.area()"
      ],
      "execution_count": 31,
      "outputs": [
        {
          "output_type": "stream",
          "name": "stdout",
          "text": [
            "Enter the value of side a of a triangle3.5\n",
            "Enter the value of side b of a triangle2.5\n",
            "Enter the value of side c of a triangle4.5\n",
            " Area of a Triangle with side 3.5,2.5,4.5 is 9.474609375\n"
          ]
        }
      ]
    },
    {
      "cell_type": "markdown",
      "metadata": {
        "id": "3bzRyCl4sfjO"
      },
      "source": [
        "1.2 Write a function filter_long_words() that takes a list of words and an integer n and returns the list of words that are longer than n."
      ]
    },
    {
      "cell_type": "code",
      "metadata": {
        "id": "FNKGbHYnrdry"
      },
      "source": [
        "def filter_long_words(list_w,n):\n",
        "  list_gt_n=[]\n",
        "  for i in range(len(list_w)):\n",
        "    if len(list_w[i])>n:\n",
        "      list_gt_n.append(list_w[i])\n",
        "  return list_gt_n"
      ],
      "execution_count": 32,
      "outputs": []
    },
    {
      "cell_type": "code",
      "metadata": {
        "colab": {
          "base_uri": "https://localhost:8080/"
        },
        "id": "cWDSRUBWayM-",
        "outputId": "24a9c1ae-bbb8-4edc-8207-139e3f31600c"
      },
      "source": [
        "list_words=[\"jay\",\"Prakash\",\"Shashank\",\"Ganesh\",\"Krishna\",\"Sam\"]\n",
        "n=3\n",
        "list_greater_than_n=filter_long_words(list_words,n)\n",
        "print(f\"List of words greater than length {n} are \\n {list_greater_than_n}\")"
      ],
      "execution_count": 33,
      "outputs": [
        {
          "output_type": "stream",
          "name": "stdout",
          "text": [
            "List of words greater than length 3 are \n",
            " ['Prakash', 'Shashank', 'Ganesh', 'Krishna']\n"
          ]
        }
      ]
    },
    {
      "cell_type": "markdown",
      "metadata": {
        "id": "fZhwlOzScjP_"
      },
      "source": [
        "2.1 Write a Python program using function concept that maps list of words into a list of integers representing the lengths of the corresponding words. Hint: If a list [ ab,cde,erty] is passed on to the python function output should come as [2,3,4] Here 2,3 and 4 are the lengths of the words in the list."
      ]
    },
    {
      "cell_type": "code",
      "metadata": {
        "id": "vB5nSVbBcn7n"
      },
      "source": [
        "def word_to_int(list_w):\n",
        "  list_map=[]\n",
        "  for i in range(len(list_w)):\n",
        "   list_map.append(len(list_w[i]))\n",
        "  return list_map"
      ],
      "execution_count": 34,
      "outputs": []
    },
    {
      "cell_type": "code",
      "metadata": {
        "colab": {
          "base_uri": "https://localhost:8080/"
        },
        "id": "y3y0d1Sic3o5",
        "outputId": "08db80be-27ed-48b8-ff33-6e15537c93b8"
      },
      "source": [
        "list_words=[\"jay\",\"Prakash\",\"Shashank\",\"Ganesh\",\"Krishna\",\"Sam\"]\n",
        "list_map_integer=word_to_int(list_words)\n",
        "print(\" Word and it's  Length are:\")\n",
        "for i in range(len(list_words)):\n",
        "  print(f\"{list_words[i]} {list_map_integer[i]} \\n\")"
      ],
      "execution_count": 35,
      "outputs": [
        {
          "output_type": "stream",
          "name": "stdout",
          "text": [
            " Word and it's  Length are:\n",
            "jay 3 \n",
            "\n",
            "Prakash 7 \n",
            "\n",
            "Shashank 8 \n",
            "\n",
            "Ganesh 6 \n",
            "\n",
            "Krishna 7 \n",
            "\n",
            "Sam 3 \n",
            "\n"
          ]
        }
      ]
    },
    {
      "cell_type": "markdown",
      "metadata": {
        "id": "09U1eBSferOb"
      },
      "source": [
        "2.2 Write a Python function which takes a character (i.e. a string of length 1) and returns True if it is a vowel, False otherwise.\n",
        "\n"
      ]
    },
    {
      "cell_type": "code",
      "metadata": {
        "id": "TUODteAHdrs0"
      },
      "source": [
        "def check_vowel(char_1):\n",
        "  vowel_l=['a','e','i','o','u']\n",
        "  char_l=char_1.lower()\n",
        "  for i in range(len(vowel_l)):\n",
        "    if char_l==vowel_l[i]:\n",
        "      return True\n",
        "    else:\n",
        "      continue\n",
        "  return False"
      ],
      "execution_count": 36,
      "outputs": []
    },
    {
      "cell_type": "code",
      "metadata": {
        "colab": {
          "base_uri": "https://localhost:8080/"
        },
        "id": "R4jirGEXf0F6",
        "outputId": "47cf077b-9b48-4bb8-b015-5c9ee49e68d1"
      },
      "source": [
        "char_to_test='b'\n",
        "result=check_vowel(char_to_test)\n",
        "print(f\"Testing {char_to_test} for vowel resulted as  {result}\")"
      ],
      "execution_count": 37,
      "outputs": [
        {
          "output_type": "stream",
          "name": "stdout",
          "text": [
            "Testing b for vowel resulted as  False\n"
          ]
        }
      ]
    },
    {
      "cell_type": "code",
      "metadata": {
        "colab": {
          "base_uri": "https://localhost:8080/"
        },
        "id": "gna6Bu4QgOtb",
        "outputId": "09165738-742b-4037-b1ca-75db1dee68dd"
      },
      "source": [
        "char_to_test='i'\n",
        "result=check_vowel(char_to_test)\n",
        "print(f\"Testing {char_to_test} for vowel resulted as  {result}\")"
      ],
      "execution_count": 38,
      "outputs": [
        {
          "output_type": "stream",
          "name": "stdout",
          "text": [
            "Testing i for vowel resulted as  True\n"
          ]
        }
      ]
    }
  ]
}