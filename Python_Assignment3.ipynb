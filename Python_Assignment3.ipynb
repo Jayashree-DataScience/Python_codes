{
  "nbformat": 4,
  "nbformat_minor": 0,
  "metadata": {
    "colab": {
      "name": "Python Assignment3.ipynb",
      "provenance": [],
      "collapsed_sections": [],
      "authorship_tag": "ABX9TyMNAEsqc9i63V7kfz2dIhUR",
      "include_colab_link": true
    },
    "kernelspec": {
      "name": "python3",
      "display_name": "Python 3"
    },
    "language_info": {
      "name": "python"
    }
  },
  "cells": [
    {
      "cell_type": "markdown",
      "metadata": {
        "id": "view-in-github",
        "colab_type": "text"
      },
      "source": [
        "<a href=\"https://colab.research.google.com/github/Jayashree-DataScience/Python_codes/blob/main/Python_Assignment3.ipynb\" target=\"_parent\"><img src=\"https://colab.research.google.com/assets/colab-badge.svg\" alt=\"Open In Colab\"/></a>"
      ]
    },
    {
      "cell_type": "markdown",
      "metadata": {
        "id": "22BlGpwCPskB"
      },
      "source": [
        "# Python Assignment 3"
      ]
    },
    {
      "cell_type": "markdown",
      "metadata": {
        "id": "AkJ616f-PmuI"
      },
      "source": [
        "1. Write a Python Program to implement your own myreduce() function which works exactly\n",
        "like Python's built-in function reduce()"
      ]
    },
    {
      "cell_type": "code",
      "metadata": {
        "colab": {
          "base_uri": "https://localhost:8080/"
        },
        "id": "cbmigMMyPnZ1",
        "outputId": "5bb0b45b-2ccc-467a-f75c-86cd50dad43f"
      },
      "source": [
        "# regular method using reduce function from functools\n",
        "def mul(x,y):\n",
        "  return x*y\n",
        "from functools import reduce\n",
        "data=[1,2,3,4,5]\n",
        "#result=reduce(lambda a, b:a*b,data)   # another method of function usage\n",
        "result=reduce(mul,data)\n",
        "print(\"Result from built in reduce function {} \".format(result)) "
      ],
      "execution_count": 28,
      "outputs": [
        {
          "output_type": "stream",
          "text": [
            "Result from built in reduce function 120 \n"
          ],
          "name": "stdout"
        }
      ]
    },
    {
      "cell_type": "code",
      "metadata": {
        "id": "BEqMbPLGQOMr"
      },
      "source": [
        "# user defined reduce function\n",
        "def myreduce(fun,iterable_arg):\n",
        "  it_obj=iter(iterable_arg)\n",
        "  result=next(it_obj)\n",
        "  for ele in it_obj :\n",
        "    result=fun(result,ele)\n",
        "  return result\n"
      ],
      "execution_count": 29,
      "outputs": []
    },
    {
      "cell_type": "code",
      "metadata": {
        "colab": {
          "base_uri": "https://localhost:8080/"
        },
        "id": "aUH_mSjBSWzH",
        "outputId": "86971566-4486-4bc4-ae7a-3a239c80d574"
      },
      "source": [
        "result_myreduce=myreduce(mul,data)\n",
        "print(\"Result from myreduce user defined function {} \".format(result_myreduce)) \n"
      ],
      "execution_count": 30,
      "outputs": [
        {
          "output_type": "stream",
          "text": [
            "Result from myreduce user defined function 120 \n"
          ],
          "name": "stdout"
        }
      ]
    },
    {
      "cell_type": "markdown",
      "metadata": {
        "id": "3F30erLFWXsU"
      },
      "source": [
        "2. Write a Python program to implement your own myfilter() function which works exactly\n",
        "like Python's built-in function filter()"
      ]
    },
    {
      "cell_type": "code",
      "metadata": {
        "colab": {
          "base_uri": "https://localhost:8080/"
        },
        "id": "egulRXktSqFZ",
        "outputId": "87f06242-22cf-4fa4-dee2-8d4d93bbb792"
      },
      "source": [
        "num_list=[num for num in range(1,11)]\n",
        "num_list"
      ],
      "execution_count": 31,
      "outputs": [
        {
          "output_type": "execute_result",
          "data": {
            "text/plain": [
              "[1, 2, 3, 4, 5, 6, 7, 8, 9, 10]"
            ]
          },
          "metadata": {
            "tags": []
          },
          "execution_count": 31
        }
      ]
    },
    {
      "cell_type": "code",
      "metadata": {
        "id": "VLcOiSxt5Sep"
      },
      "source": [
        "def return_odd(n):\n",
        "  if n%2!=0:\n",
        "    return n\n",
        "  else:\n",
        "   pass\n",
        "   "
      ],
      "execution_count": 32,
      "outputs": []
    },
    {
      "cell_type": "code",
      "metadata": {
        "id": "yFdegnZ76F9e"
      },
      "source": [
        "def my_filter(fun,n_list):\n",
        "  result=[]\n",
        "  for i in iter(n_list):\n",
        "    temp=fun(i)\n",
        "    if temp!=None:\n",
        "      result.append(temp)\n",
        "  return result\n"
      ],
      "execution_count": 33,
      "outputs": []
    },
    {
      "cell_type": "code",
      "metadata": {
        "colab": {
          "base_uri": "https://localhost:8080/"
        },
        "id": "x7i9R2UU7-5P",
        "outputId": "1c242e24-f7b3-45a5-9e67-960e9098ec38"
      },
      "source": [
        "result_final=my_filter(return_odd,num_list)\n",
        "print(\"odd numbers from userdefined filter function{}\".format(result_final))"
      ],
      "execution_count": 34,
      "outputs": [
        {
          "output_type": "stream",
          "text": [
            "odd numbers from userdefined filter function[1, 3, 5, 7, 9]\n"
          ],
          "name": "stdout"
        }
      ]
    },
    {
      "cell_type": "markdown",
      "metadata": {
        "id": "ZsLukcEL9_4e"
      },
      "source": [
        "3. Implement List comprehensions to produce the following lists.\n",
        "Write List comprehensions to produce the following Lists\n",
        "\n",
        "  ['x', 'xx', 'xxx', 'xxxx', 'y', 'yy', 'yyy', 'yyyy', 'z', 'zz', 'zzz', 'zzzz']\n",
        "\n",
        "  ['x', 'y', 'z', 'xx', 'yy', 'zz', 'xxx', 'yyy', 'zzz', 'xxxx', 'yyyy',    'zzzz']\n",
        "\n",
        "  [[2], [3], [4], [3], [4], [5], [4], [5], [6]]\n",
        "  \n",
        "  [2, 3, 4, 5], [3, 4, 5, 6], [4, 5, 6, 7], [5, 6, 7, 8]]\n",
        "\n",
        "  [(1, 1), (2, 1), (3, 1), (1, 2), (2, 2), (3, 2), (1, 3), (2, 3), (3, 3)]"
      ]
    },
    {
      "cell_type": "code",
      "metadata": {
        "colab": {
          "base_uri": "https://localhost:8080/"
        },
        "id": "ApRpcvoQ8TRg",
        "outputId": "f116bde9-023b-4455-cd3f-803324c63978"
      },
      "source": [
        "word=\"xyz\"\n",
        "list1=[value*i for value in word for i in range(1,5) ]\n",
        "list1"
      ],
      "execution_count": 35,
      "outputs": [
        {
          "output_type": "execute_result",
          "data": {
            "text/plain": [
              "['x', 'xx', 'xxx', 'xxxx', 'y', 'yy', 'yyy', 'yyyy', 'z', 'zz', 'zzz', 'zzzz']"
            ]
          },
          "metadata": {
            "tags": []
          },
          "execution_count": 35
        }
      ]
    },
    {
      "cell_type": "code",
      "metadata": {
        "colab": {
          "base_uri": "https://localhost:8080/"
        },
        "id": "ZkT_xGdn_OkP",
        "outputId": "b351db49-4a6b-4db9-e940-71269590109e"
      },
      "source": [
        "list2=[value*i  for i in range(1,5) for value in word ]\n",
        "list2"
      ],
      "execution_count": 36,
      "outputs": [
        {
          "output_type": "execute_result",
          "data": {
            "text/plain": [
              "['x', 'y', 'z', 'xx', 'yy', 'zz', 'xxx', 'yyy', 'zzz', 'xxxx', 'yyyy', 'zzzz']"
            ]
          },
          "metadata": {
            "tags": []
          },
          "execution_count": 36
        }
      ]
    },
    {
      "cell_type": "code",
      "metadata": {
        "colab": {
          "base_uri": "https://localhost:8080/"
        },
        "id": "AyJMwN8J_2mu",
        "outputId": "081e90e1-c989-4b02-cfdd-a20f5cedec18"
      },
      "source": [
        "num=[2,3,4]\n",
        "list3=[[i+j] for i in num for j in range(0,3)]\n",
        "print(list3)"
      ],
      "execution_count": 37,
      "outputs": [
        {
          "output_type": "stream",
          "text": [
            "[[2], [3], [4], [3], [4], [5], [4], [5], [6]]\n"
          ],
          "name": "stdout"
        }
      ]
    },
    {
      "cell_type": "code",
      "metadata": {
        "colab": {
          "base_uri": "https://localhost:8080/"
        },
        "id": "GokfvX92Ajh-",
        "outputId": "023a6200-b4be-41ca-9019-bdea64063b9c"
      },
      "source": [
        "num=[2,3,4,5]\n",
        "list4=[[i+j  for j in range(0,4)] for i in num]\n",
        "print(list4)"
      ],
      "execution_count": 38,
      "outputs": [
        {
          "output_type": "stream",
          "text": [
            "[[2, 3, 4, 5], [3, 4, 5, 6], [4, 5, 6, 7], [5, 6, 7, 8]]\n"
          ],
          "name": "stdout"
        }
      ]
    },
    {
      "cell_type": "code",
      "metadata": {
        "colab": {
          "base_uri": "https://localhost:8080/"
        },
        "id": "TqeXDOlMB3sB",
        "outputId": "4d2c03fa-66f6-49f0-ccf9-23e84ea244ca"
      },
      "source": [
        "num=[1,2,3]\n",
        "list5=[(j,i) for i in num for j in num]\n",
        "print(list5)"
      ],
      "execution_count": 39,
      "outputs": [
        {
          "output_type": "stream",
          "text": [
            "[(1, 1), (2, 1), (3, 1), (1, 2), (2, 2), (3, 2), (1, 3), (2, 3), (3, 3)]\n"
          ],
          "name": "stdout"
        }
      ]
    }
  ]
}