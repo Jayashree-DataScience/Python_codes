{
  "nbformat": 4,
  "nbformat_minor": 0,
  "metadata": {
    "colab": {
      "name": "Exception Handling.ipynb",
      "provenance": [],
      "collapsed_sections": [],
      "authorship_tag": "ABX9TyNW5KDGcv8mV8RdNKydXkzf",
      "include_colab_link": true
    },
    "kernelspec": {
      "name": "python3",
      "display_name": "Python 3"
    },
    "language_info": {
      "name": "python"
    }
  },
  "cells": [
    {
      "cell_type": "markdown",
      "metadata": {
        "id": "view-in-github",
        "colab_type": "text"
      },
      "source": [
        "<a href=\"https://colab.research.google.com/github/Jayashree-DataScience/Python_codes/blob/main/Exception_Handling.ipynb\" target=\"_parent\"><img src=\"https://colab.research.google.com/assets/colab-badge.svg\" alt=\"Open In Colab\"/></a>"
      ]
    },
    {
      "cell_type": "markdown",
      "metadata": {
        "id": "m4bqrGSL9kN8"
      },
      "source": [
        "# Exception Handling Assignment"
      ]
    },
    {
      "cell_type": "markdown",
      "metadata": {
        "id": "7WaCSzhe9pWj"
      },
      "source": [
        "1. Write a function to compute 5/0 and use try/except to catch the exceptions."
      ]
    },
    {
      "cell_type": "code",
      "metadata": {
        "id": "GKb2bbWX9nfS"
      },
      "source": [
        "def divbyzero(x,y):\n",
        "  try:\n",
        "    x/y\n",
        "  except ZeroDivisionError as e:\n",
        "    print(\"Division by zero is not defined \")\n",
        "    print(\"An exception {} has occured \".format(e))"
      ],
      "execution_count": 3,
      "outputs": []
    },
    {
      "cell_type": "code",
      "metadata": {
        "colab": {
          "base_uri": "https://localhost:8080/"
        },
        "id": "sETTduOU-Lxx",
        "outputId": "5d1a15bd-d692-47c7-f3ea-ee0c4fd74f1c"
      },
      "source": [
        "divbyzero(5,0)"
      ],
      "execution_count": 4,
      "outputs": [
        {
          "output_type": "stream",
          "text": [
            "Division by zero is not defined \n",
            "An exception division by zero has occured \n"
          ],
          "name": "stdout"
        }
      ]
    },
    {
      "cell_type": "markdown",
      "metadata": {
        "id": "n-K_df7hNi3T"
      },
      "source": [
        "\n",
        "\n",
        "Problem_2-:Implement a Python program to generate all sentences where subject is in [\"Americans\", \"Indians\"] and verb is in [\"Play\", \"watch\"] and the object is in [\"Baseball\",\"cricket\"].\n",
        "\n",
        "        Hint: Subject,Verb and Object should be declared in the program as shown below.                \n",
        "        subjects=[\"Americans \",\"Indians\"]\n",
        "        verbs=[\"play\",\"watch\"]\n",
        "        objects=[\"Baseball\",\"Cricket\"]\n",
        "\n",
        "Exptected Output  :                       \n",
        "                   Americans play Baseball.\n",
        "\n",
        "                   Americans play Cricket.\n",
        "\n",
        "                   Americans watch Baseball.\n",
        "\n",
        "                   Americans watch Cricket.\n",
        "\n",
        "                   Indians play Baseball.\n",
        "\n",
        "                   Indians play Cricket.\n",
        "\n",
        "                   Indians watch Baseball.\n",
        "                   \n",
        "                   Indians watch Cricket.\n",
        "\n"
      ]
    },
    {
      "cell_type": "code",
      "metadata": {
        "id": "qOQLt4kr-lor"
      },
      "source": [
        "subjects=[\"Americans\",\"Indians\"]\n",
        "verbs=[\"play\",\"watch\"]\n",
        "objects=[\"Baseball\",\"Cricket\"]"
      ],
      "execution_count": 8,
      "outputs": []
    },
    {
      "cell_type": "code",
      "metadata": {
        "colab": {
          "base_uri": "https://localhost:8080/"
        },
        "id": "dROXRVCKN-3K",
        "outputId": "319cb719-bcb8-43fe-d480-855ad34c5601"
      },
      "source": [
        "sentences=[(subject+\" \"+verb+\" \"+object+\".\")for subject in subjects for verb in verbs for object in objects]\n",
        "for sentence in sentences:\n",
        "  print(sentence)"
      ],
      "execution_count": 9,
      "outputs": [
        {
          "output_type": "stream",
          "text": [
            "Americans play Baseball.\n",
            "Americans play Cricket.\n",
            "Americans watch Baseball.\n",
            "Americans watch Cricket.\n",
            "Indians play Baseball.\n",
            "Indians play Cricket.\n",
            "Indians watch Baseball.\n",
            "Indians watch Cricket.\n"
          ],
          "name": "stdout"
        }
      ]
    }
  ]
}